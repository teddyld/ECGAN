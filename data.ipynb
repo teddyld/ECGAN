{
 "cells": [
  {
   "cell_type": "markdown",
   "metadata": {},
   "source": [
    "# Data\n",
    "\n",
    "This notebook creates the masked images and binary mask segmentations from the RAFDB dataset using [MaskTheFace](https://github.com/aqeelanwar/MaskTheFace). Prerequisite is to download the RAFDB dataset from [Kaggle](https://www.kaggle.com/datasets/shuvoalok/raf-db-dataset)"
   ]
  },
  {
   "cell_type": "markdown",
   "metadata": {},
   "source": [
    "## Imports and Definitions"
   ]
  },
  {
   "cell_type": "code",
   "execution_count": null,
   "metadata": {},
   "outputs": [],
   "source": [
    "import os\n",
    "from tqdm import tqdm\n",
    "import cv2\n",
    "import matplotlib.pyplot as plt\n",
    "DATA_PATH = './data'\n",
    "RAFDB_PATH = DATA_PATH + '/RAFDB' # path to RAFDB dataset\n",
    "MASKED_RAFDB_PATH = DATA_PATH + '/Masked_RAFDB' # path to masked versions\n",
    "BINARY_RAFDB_PATH = DATA_PATH + '/Binary_RAFDB' # path to binary masks"
   ]
  },
  {
   "cell_type": "markdown",
   "metadata": {},
   "source": [
    "## Flatten RAFDB train and test data"
   ]
  },
  {
   "cell_type": "code",
   "execution_count": null,
   "metadata": {},
   "outputs": [],
   "source": [
    "def flatten_data(src):\n",
    "    \"\"\"\n",
    "    Given a directory src, unpack the contents of its sub-directories into the directory src.\n",
    "    \"\"\"\n",
    "    subdirs = [dir for dir in os.listdir(src) if os.path.isdir(os.path.join(src, dir))]\n",
    "\n",
    "    for dir in subdirs:\n",
    "        subdir_path = os.path.join(src, dir)\n",
    "        files = os.listdir(subdir_path)\n",
    "        loop = tqdm(files)\n",
    "        loop.set_description(f'Unpacking sub-directory {dir}')\n",
    "        for file in loop:\n",
    "            os.rename(os.path.join(subdir_path, file), os.path.join(src, file))\n",
    "            \n",
    "        os.rmdir(subdir_path)"
   ]
  },
  {
   "cell_type": "code",
   "execution_count": null,
   "metadata": {},
   "outputs": [],
   "source": [
    "flatten_data(RAFDB_PATH + '/train')\n",
    "flatten_data(RAFDB_PATH + '/test')"
   ]
  },
  {
   "cell_type": "markdown",
   "metadata": {},
   "source": [
    "## Clone MaskTheFace"
   ]
  },
  {
   "cell_type": "code",
   "execution_count": null,
   "metadata": {},
   "outputs": [],
   "source": [
    "!git clone https://github.com/aqeelanwar/MaskTheFace.git\n",
    "%pip install -r MaskTheFace/requirements.txt"
   ]
  },
  {
   "cell_type": "markdown",
   "metadata": {},
   "source": [
    "Run the following python command in the terminal in the MaskTheFace directory for the train and test datasets which generates directories `_masked` containing the masked images\n",
    "\n",
    "`$python mask_the_face.py --path <path-to-file-or-dir> --mask_type <type-of-mask> --verbose --write_original_image`\n",
    "\n",
    "Example:\n",
    "\n",
    "`$python mask_the_face.py --path ../data/RAFDB/train --mask_type 'cloth' --color '#000000' --verbose --write_original_image`\n",
    "\n",
    "`$python mask_the_face.py --path ../data/RAFDB/test --mask_type 'cloth' --color '#000000' --verbose --write_original_image` "
   ]
  },
  {
   "cell_type": "markdown",
   "metadata": {},
   "source": [
    "## Move the masked images to the Masked_RAFDB directory"
   ]
  },
  {
   "cell_type": "code",
   "execution_count": null,
   "metadata": {},
   "outputs": [],
   "source": [
    "!mkdir {MASKED_RAFDB_PATH}\n",
    "!mkdir {MASKED_RAFDB_PATH}/train\n",
    "!mkdir {MASKED_RAFDB_PATH}/test"
   ]
  },
  {
   "cell_type": "code",
   "execution_count": null,
   "metadata": {},
   "outputs": [],
   "source": [
    "def move_files(src, dest):\n",
    "    \"\"\"Move the files of src to dest\"\"\"\n",
    "    all_files = os.listdir(src)\n",
    "    for file in all_files:\n",
    "        src_path = os.path.join(src, file)\n",
    "        dest_path = os.path.join(dest, file)\n",
    "        os.rename(src_path, dest_path)\n",
    "        \n",
    "move_files(RAFDB_PATH + '/train_masked', MASKED_RAFDB_PATH + '/train')\n",
    "move_files(RAFDB_PATH + '/test_masked', MASKED_RAFDB_PATH + '/test')"
   ]
  },
  {
   "cell_type": "markdown",
   "metadata": {},
   "source": [
    "## Remove non-pairs of masked and unmasked images\n",
    "\n",
    "Because the MaskTheFace tool we use is not 100% accurate, we find and remove images from the RAFDB dataset which were not able to be masked"
   ]
  },
  {
   "cell_type": "code",
   "execution_count": null,
   "metadata": {},
   "outputs": [],
   "source": [
    "print('Number of non-masked training images:', len(os.listdir(os.path.join(RAFDB_PATH, 'train'))))\n",
    "print('Number of non-masked test images:', len(os.listdir(os.path.join(RAFDB_PATH, 'test'))))\n",
    "\n",
    "print('Number of masked training images:', len(os.listdir(os.path.join(MASKED_RAFDB_PATH, 'train'))))\n",
    "print('Number of masked test images:', len(os.listdir(os.path.join(MASKED_RAFDB_PATH, 'test'))))"
   ]
  },
  {
   "cell_type": "code",
   "execution_count": null,
   "metadata": {},
   "outputs": [],
   "source": [
    "def remove_invalid_images(unmasked_src, masked_src):\n",
    "    \"\"\"Removes unpaired images from unmasked_src directory if its pair is not found in masked_src directory\"\"\"\n",
    "    masked_all_files = os.listdir(masked_src)\n",
    "    unmasked_all_files = os.listdir(unmasked_src)\n",
    "    \n",
    "    for unmasked_file in unmasked_all_files:\n",
    "        file_idx = unmasked_file.split('_')[1:2][0]\n",
    "        valid = any(file_idx in m_file for m_file in masked_all_files)\n",
    "        \n",
    "        # Remove un-paired file from unmasked_src\n",
    "        if not valid:\n",
    "            os.remove(os.path.join(unmasked_src, unmasked_file))\n",
    "\n",
    "remove_invalid_images(RAFDB_PATH + '/train', MASKED_RAFDB_PATH + '/train')\n",
    "remove_invalid_images(RAFDB_PATH + '/test', MASKED_RAFDB_PATH + '/test')"
   ]
  },
  {
   "cell_type": "code",
   "execution_count": null,
   "metadata": {},
   "outputs": [],
   "source": [
    "print('Number of non-masked training images: ', len(os.listdir(os.path.join(RAFDB_PATH, 'train'))))\n",
    "print('Number of non-masked test images: ', len(os.listdir(os.path.join(RAFDB_PATH, 'test'))))\n",
    "\n",
    "print('Number of masked training images: ', len(os.listdir(os.path.join(MASKED_RAFDB_PATH, 'train'))))\n",
    "print('Number of masked test images: ', len(os.listdir(os.path.join(MASKED_RAFDB_PATH, 'test'))))"
   ]
  },
  {
   "cell_type": "markdown",
   "metadata": {},
   "source": [
    "## Create binary mask segmentations"
   ]
  },
  {
   "cell_type": "code",
   "execution_count": null,
   "metadata": {},
   "outputs": [],
   "source": [
    "!mkdir {BINARY_RAFDB_PATH}\n",
    "!mkdir {BINARY_RAFDB_PATH}/train\n",
    "!mkdir {BINARY_RAFDB_PATH}/test"
   ]
  },
  {
   "cell_type": "code",
   "execution_count": null,
   "metadata": {},
   "outputs": [],
   "source": [
    "def create_binary_masks(unmasked_src, masked_src, dest, affix):\n",
    "    \"\"\"Creates binary mask segmentations from the unmasked and masked images and writes the image to dest with filename prepended with the affix string\"\"\"\n",
    "    unmasked_all_files = os.listdir(unmasked_src)\n",
    "    masked_all_files = os.listdir(masked_src)\n",
    "    \n",
    "    # Sort the files\n",
    "    unmasked_all_files.sort()\n",
    "    masked_all_files.sort()\n",
    "    \n",
    "    for i in range(0, len(unmasked_all_files)):\n",
    "        unmasked_path = os.path.join(unmasked_src, unmasked_all_files[i])\n",
    "        masked_path = os.path.join(masked_src, masked_all_files[i])\n",
    "        \n",
    "        # Read masked and unmasked images\n",
    "        unmasked_img = cv2.imread(unmasked_path)\n",
    "        masked_img = cv2.imread(masked_path)\n",
    "        \n",
    "        # Convert images to grayscale\n",
    "        unmasked_grey_img = cv2.cvtColor(unmasked_img, cv2.COLOR_BGR2GRAY)\n",
    "        masked_grey_img = cv2.cvtColor(masked_img, cv2.COLOR_BGR2GRAY)\n",
    "        \n",
    "        # Find absolute difference between image pair\n",
    "        binary_mask = cv2.absdiff(masked_grey_img, unmasked_grey_img)\n",
    "        # Apply threshold\n",
    "        _, binary_mask = cv2.threshold(binary_mask, 0, 255, cv2.THRESH_BINARY  | cv2.THRESH_OTSU)\n",
    "        # Apply dilation\n",
    "        binary_mask = cv2.dilate(binary_mask, kernel=(3, 3), iterations=10)\n",
    "        \n",
    "        # Write binary mask to dest\n",
    "        cv2.imwrite(os.path.join(dest, f'{affix}_{str(i + 1).zfill(5)}_binary.jpg'), binary_mask)\n",
    "\n",
    "    _, ax = plt.subplots(1, 3, figsize=(10, 5), subplot_kw={'xticks': [], 'yticks': []})\n",
    "        \n",
    "    ax[0].imshow(cv2.cvtColor(unmasked_img, cv2.COLOR_BGR2RGB))\n",
    "    ax[0].set_title('Unmasked')\n",
    "    ax[1].imshow(cv2.cvtColor(masked_img, cv2.COLOR_BGR2RGB))\n",
    "    ax[1].set_title('Masked')\n",
    "    ax[2].imshow(binary_mask, cmap=\"gray\")\n",
    "    ax[2].set_title('Binary mask')\n",
    "    \n",
    "create_binary_masks(RAFDB_PATH + '/train', MASKED_RAFDB_PATH + '/train', BINARY_RAFDB_PATH + '/train', affix='train')\n",
    "create_binary_masks(RAFDB_PATH + '/test', MASKED_RAFDB_PATH + '/test', BINARY_RAFDB_PATH + '/test', affix='test')"
   ]
  }
 ],
 "metadata": {
  "kernelspec": {
   "display_name": "projects",
   "language": "python",
   "name": "python3"
  },
  "language_info": {
   "codemirror_mode": {
    "name": "ipython",
    "version": 3
   },
   "file_extension": ".py",
   "mimetype": "text/x-python",
   "name": "python",
   "nbconvert_exporter": "python",
   "pygments_lexer": "ipython3",
   "version": "3.10.11"
  }
 },
 "nbformat": 4,
 "nbformat_minor": 2
}
